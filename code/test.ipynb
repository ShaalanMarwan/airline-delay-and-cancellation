{
 "cells": [
  {
   "cell_type": "code",
   "execution_count": 24,
   "metadata": {},
   "outputs": [],
   "source": [
    "import pandas as pd\n",
    "import geopandas as gpd\n",
    "\n",
    "import seaborn as sns\n",
    "\n",
    "\n",
    "import matplotlib.pyplot as plt\n",
    "import numpy as np"
   ]
  },
  {
   "cell_type": "code",
   "execution_count": 35,
   "metadata": {},
   "outputs": [
    {
     "name": "stdout",
     "output_type": "stream",
     "text": [
      "Index(['FL_DATE', 'OP_CARRIER', 'OP_CARRIER_FL_NUM', 'ORIGIN', 'DEST',\n",
      "       'CRS_DEP_TIME', 'DEP_TIME', 'DEP_DELAY', 'TAXI_OUT', 'WHEELS_OFF',\n",
      "       'WHEELS_ON', 'TAXI_IN', 'CRS_ARR_TIME', 'ARR_TIME', 'ARR_DELAY',\n",
      "       'CANCELLED', 'CANCELLATION_CODE', 'DIVERTED', 'CRS_ELAPSED_TIME',\n",
      "       'ACTUAL_ELAPSED_TIME', 'AIR_TIME', 'DISTANCE', 'CARRIER_DELAY',\n",
      "       'WEATHER_DELAY', 'NAS_DELAY', 'SECURITY_DELAY', 'LATE_AIRCRAFT_DELAY',\n",
      "       'Unnamed: 27'],\n",
      "      dtype='object')\n"
     ]
    }
   ],
   "source": [
    "\n",
    "\n",
    "\n"
   ]
  },
  {
   "cell_type": "code",
   "execution_count": 36,
   "metadata": {},
   "outputs": [
    {
     "name": "stdout",
     "output_type": "stream",
     "text": [
      "Index(['id', 'ident', 'type', 'name', 'latitude_deg', 'longitude_deg',\n",
      "       'elevation_ft', 'continent', 'country_name', 'iso_country',\n",
      "       'region_name', 'iso_region', 'local_region', 'municipality',\n",
      "       'scheduled_service', 'gps_code', 'iata_code', 'local_code', 'home_link',\n",
      "       'wikipedia_link', 'keywords', 'score', 'last_updated'],\n",
      "      dtype='object')\n"
     ]
    }
   ],
   "source": [
    "print(airport_data.columns)"
   ]
  },
  {
   "cell_type": "code",
   "execution_count": 40,
   "metadata": {},
   "outputs": [
    {
     "ename": "ValueError",
     "evalue": "could not convert string to float: 'ABE'",
     "output_type": "error",
     "traceback": [
      "\u001b[0;31m---------------------------------------------------------------------------\u001b[0m",
      "\u001b[0;31mValueError\u001b[0m                                Traceback (most recent call last)",
      "Cell \u001b[0;32mIn[40], line 16\u001b[0m\n\u001b[1;32m     14\u001b[0m sns\u001b[39m.\u001b[39mset(style\u001b[39m=\u001b[39m\u001b[39m\"\u001b[39m\u001b[39mwhite\u001b[39m\u001b[39m\"\u001b[39m)\n\u001b[1;32m     15\u001b[0m plt\u001b[39m.\u001b[39mfigure(figsize\u001b[39m=\u001b[39m(\u001b[39m10\u001b[39m, \u001b[39m6\u001b[39m))\n\u001b[0;32m---> 16\u001b[0m sns\u001b[39m.\u001b[39;49mheatmap(data\u001b[39m=\u001b[39;49mdelay_airports, x\u001b[39m=\u001b[39;49m\u001b[39m\"\u001b[39;49m\u001b[39mlongitude_deg\u001b[39;49m\u001b[39m\"\u001b[39;49m, y\u001b[39m=\u001b[39;49m\u001b[39m\"\u001b[39;49m\u001b[39mlatitude_deg\u001b[39;49m\u001b[39m\"\u001b[39;49m, hue\u001b[39m=\u001b[39;49m\u001b[39m\"\u001b[39;49m\u001b[39mDEP_DELAY\u001b[39;49m\u001b[39m\"\u001b[39;49m, size\u001b[39m=\u001b[39;49m\u001b[39m\"\u001b[39;49m\u001b[39mDEP_DELAY\u001b[39;49m\u001b[39m\"\u001b[39;49m, sizes\u001b[39m=\u001b[39;49m(\u001b[39m10\u001b[39;49m, \u001b[39m200\u001b[39;49m), alpha\u001b[39m=\u001b[39;49m\u001b[39m0.8\u001b[39;49m)\n\u001b[1;32m     17\u001b[0m plt\u001b[39m.\u001b[39mxlabel(\u001b[39m'\u001b[39m\u001b[39mLongitude\u001b[39m\u001b[39m'\u001b[39m)\n\u001b[1;32m     18\u001b[0m plt\u001b[39m.\u001b[39mylabel(\u001b[39m'\u001b[39m\u001b[39mLatitude\u001b[39m\u001b[39m'\u001b[39m)\n",
      "File \u001b[0;32m/usr/local/lib/python3.11/site-packages/seaborn/matrix.py:446\u001b[0m, in \u001b[0;36mheatmap\u001b[0;34m(data, vmin, vmax, cmap, center, robust, annot, fmt, annot_kws, linewidths, linecolor, cbar, cbar_kws, cbar_ax, square, xticklabels, yticklabels, mask, ax, **kwargs)\u001b[0m\n\u001b[1;32m    365\u001b[0m \u001b[39m\u001b[39m\u001b[39m\"\"\"Plot rectangular data as a color-encoded matrix.\u001b[39;00m\n\u001b[1;32m    366\u001b[0m \n\u001b[1;32m    367\u001b[0m \u001b[39mThis is an Axes-level function and will draw the heatmap into the\u001b[39;00m\n\u001b[0;32m   (...)\u001b[0m\n\u001b[1;32m    443\u001b[0m \n\u001b[1;32m    444\u001b[0m \u001b[39m\"\"\"\u001b[39;00m\n\u001b[1;32m    445\u001b[0m \u001b[39m# Initialize the plotter object\u001b[39;00m\n\u001b[0;32m--> 446\u001b[0m plotter \u001b[39m=\u001b[39m _HeatMapper(data, vmin, vmax, cmap, center, robust, annot, fmt,\n\u001b[1;32m    447\u001b[0m                       annot_kws, cbar, cbar_kws, xticklabels,\n\u001b[1;32m    448\u001b[0m                       yticklabels, mask)\n\u001b[1;32m    450\u001b[0m \u001b[39m# Add the pcolormesh kwargs here\u001b[39;00m\n\u001b[1;32m    451\u001b[0m kwargs[\u001b[39m\"\u001b[39m\u001b[39mlinewidths\u001b[39m\u001b[39m\"\u001b[39m] \u001b[39m=\u001b[39m linewidths\n",
      "File \u001b[0;32m/usr/local/lib/python3.11/site-packages/seaborn/matrix.py:163\u001b[0m, in \u001b[0;36m_HeatMapper.__init__\u001b[0;34m(self, data, vmin, vmax, cmap, center, robust, annot, fmt, annot_kws, cbar, cbar_kws, xticklabels, yticklabels, mask)\u001b[0m\n\u001b[1;32m    160\u001b[0m \u001b[39mself\u001b[39m\u001b[39m.\u001b[39mylabel \u001b[39m=\u001b[39m ylabel \u001b[39mif\u001b[39;00m ylabel \u001b[39mis\u001b[39;00m \u001b[39mnot\u001b[39;00m \u001b[39mNone\u001b[39;00m \u001b[39melse\u001b[39;00m \u001b[39m\"\u001b[39m\u001b[39m\"\u001b[39m\n\u001b[1;32m    162\u001b[0m \u001b[39m# Determine good default values for the colormapping\u001b[39;00m\n\u001b[0;32m--> 163\u001b[0m \u001b[39mself\u001b[39;49m\u001b[39m.\u001b[39;49m_determine_cmap_params(plot_data, vmin, vmax,\n\u001b[1;32m    164\u001b[0m                             cmap, center, robust)\n\u001b[1;32m    166\u001b[0m \u001b[39m# Sort out the annotations\u001b[39;00m\n\u001b[1;32m    167\u001b[0m \u001b[39mif\u001b[39;00m annot \u001b[39mis\u001b[39;00m \u001b[39mNone\u001b[39;00m \u001b[39mor\u001b[39;00m annot \u001b[39mis\u001b[39;00m \u001b[39mFalse\u001b[39;00m:\n",
      "File \u001b[0;32m/usr/local/lib/python3.11/site-packages/seaborn/matrix.py:197\u001b[0m, in \u001b[0;36m_HeatMapper._determine_cmap_params\u001b[0;34m(self, plot_data, vmin, vmax, cmap, center, robust)\u001b[0m\n\u001b[1;32m    194\u001b[0m \u001b[39m\u001b[39m\u001b[39m\"\"\"Use some heuristics to set good defaults for colorbar and range.\"\"\"\u001b[39;00m\n\u001b[1;32m    196\u001b[0m \u001b[39m# plot_data is a np.ma.array instance\u001b[39;00m\n\u001b[0;32m--> 197\u001b[0m calc_data \u001b[39m=\u001b[39m plot_data\u001b[39m.\u001b[39;49mastype(\u001b[39mfloat\u001b[39;49m)\u001b[39m.\u001b[39mfilled(np\u001b[39m.\u001b[39mnan)\n\u001b[1;32m    198\u001b[0m \u001b[39mif\u001b[39;00m vmin \u001b[39mis\u001b[39;00m \u001b[39mNone\u001b[39;00m:\n\u001b[1;32m    199\u001b[0m     \u001b[39mif\u001b[39;00m robust:\n",
      "\u001b[0;31mValueError\u001b[0m: could not convert string to float: 'ABE'"
     ]
    },
    {
     "data": {
      "text/plain": [
       "<Figure size 1000x600 with 0 Axes>"
      ]
     },
     "metadata": {},
     "output_type": "display_data"
    }
   ],
   "source": [
    "# Load the flights data and select relevant columns\n",
    "flights = pd.read_csv('../data/csv/2009.csv', usecols=['ORIGIN', 'DEP_DELAY'])\n",
    "\n",
    "# Calculate the average departure delay for each origin airport\n",
    "delay_by_origin = flights.groupby('ORIGIN')['DEP_DELAY'].mean().reset_index()\n",
    "\n",
    "# Load the airport data and select relevant columns\n",
    "airports = pd.read_csv('../data/us-airports.csv', usecols=['iata_code', 'latitude_deg', 'longitude_deg'])\n",
    "\n",
    "# Merge the delay data with the airport data based on the iata_code\n",
    "delay_airports = delay_by_origin.merge(airports, left_on='ORIGIN', right_on='iata_code')\n",
    "\n",
    "# Create the heatmap\n",
    "sns.set(style=\"white\")\n",
    "plt.figure(figsize=(10, 6))\n",
    "sns.heatmap(data=delay_airports, x=\"longitude_deg\", y=\"latitude_deg\", hue=\"DEP_DELAY\", size=\"DEP_DELAY\", sizes=(10, 200), alpha=0.8)\n",
    "plt.xlabel('Longitude')\n",
    "plt.ylabel('Latitude')\n",
    "plt.title('Average departure delay by origin airport')\n",
    "plt.show()\n",
    "\n"
   ]
  },
  {
   "cell_type": "code",
   "execution_count": 37,
   "metadata": {},
   "outputs": [],
   "source": [
    "# Join flights data with airport data to get airport names\n",
    "flights_data = pd.merge(flights_data, airport_data[['ident', 'municipality']], left_on='ORIGIN', right_on='ident', how='left')\n",
    "flights_data = flights_data.rename(columns={'municipality': 'ORIGIN_CITY'})\n",
    "flights_data = flights_data.drop(columns=['ident'])\n",
    "\n",
    "# Get the average departure delay for each airport\n",
    "airport_mean_delays = flights_data.groupby('ORIGIN_CITY')['DEP_DELAY'].mean().sort_values(ascending=False)\n"
   ]
  },
  {
   "cell_type": "code",
   "execution_count": 38,
   "metadata": {},
   "outputs": [
    {
     "ename": "ValueError",
     "evalue": "buffer source array is read-only",
     "output_type": "error",
     "traceback": [
      "\u001b[0;31m---------------------------------------------------------------------------\u001b[0m",
      "\u001b[0;31mTypeError\u001b[0m                                 Traceback (most recent call last)",
      "File \u001b[0;32m/usr/local/lib/python3.11/site-packages/pandas/core/ops/array_ops.py:305\u001b[0m, in \u001b[0;36mna_logical_op\u001b[0;34m(x, y, op)\u001b[0m\n\u001b[1;32m    296\u001b[0m \u001b[39mtry\u001b[39;00m:\n\u001b[1;32m    297\u001b[0m     \u001b[39m# For exposition, write:\u001b[39;00m\n\u001b[1;32m    298\u001b[0m     \u001b[39m#  yarr = isinstance(y, np.ndarray)\u001b[39;00m\n\u001b[0;32m   (...)\u001b[0m\n\u001b[1;32m    303\u001b[0m     \u001b[39m# Then Cases where this goes through without raising include:\u001b[39;00m\n\u001b[1;32m    304\u001b[0m     \u001b[39m#  (xint or xbool) and (yint or bool)\u001b[39;00m\n\u001b[0;32m--> 305\u001b[0m     result \u001b[39m=\u001b[39m op(x, y)\n\u001b[1;32m    306\u001b[0m \u001b[39mexcept\u001b[39;00m \u001b[39mTypeError\u001b[39;00m:\n",
      "File \u001b[0;32m/usr/local/lib/python3.11/site-packages/pandas/core/roperator.py:58\u001b[0m, in \u001b[0;36mror_\u001b[0;34m(left, right)\u001b[0m\n\u001b[1;32m     57\u001b[0m \u001b[39mdef\u001b[39;00m \u001b[39mror_\u001b[39m(left, right):\n\u001b[0;32m---> 58\u001b[0m     \u001b[39mreturn\u001b[39;00m operator\u001b[39m.\u001b[39;49mor_(right, left)\n",
      "\u001b[0;31mTypeError\u001b[0m: unsupported operand type(s) for |: 'bool' and 'float'",
      "\nDuring handling of the above exception, another exception occurred:\n",
      "\u001b[0;31mValueError\u001b[0m                                Traceback (most recent call last)",
      "Cell \u001b[0;32mIn[38], line 8\u001b[0m\n\u001b[1;32m      6\u001b[0m subset \u001b[39m=\u001b[39m airport_mean_delays\u001b[39m.\u001b[39miloc[:\u001b[39m50\u001b[39m]\n\u001b[1;32m      7\u001b[0m mask \u001b[39m=\u001b[39m subset\u001b[39m.\u001b[39misnull()\n\u001b[0;32m----> 8\u001b[0m sns\u001b[39m.\u001b[39;49mheatmap(subset\u001b[39m.\u001b[39;49mto_frame(), linewidths\u001b[39m=\u001b[39;49m\u001b[39m0.05\u001b[39;49m, cmap\u001b[39m=\u001b[39;49m\u001b[39m\"\u001b[39;49m\u001b[39mYlGnBu\u001b[39;49m\u001b[39m\"\u001b[39;49m, mask\u001b[39m=\u001b[39;49mmask, vmin \u001b[39m=\u001b[39;49m \u001b[39m0\u001b[39;49m, vmax \u001b[39m=\u001b[39;49m \u001b[39m30\u001b[39;49m, annot\u001b[39m=\u001b[39;49m\u001b[39mTrue\u001b[39;49;00m, fmt\u001b[39m=\u001b[39;49m\u001b[39m\"\u001b[39;49m\u001b[39m.1f\u001b[39;49m\u001b[39m\"\u001b[39;49m, cbar_kws\u001b[39m=\u001b[39;49m{\u001b[39m\"\u001b[39;49m\u001b[39mlabel\u001b[39;49m\u001b[39m\"\u001b[39;49m: \u001b[39m\"\u001b[39;49m\u001b[39mAverage Departure Delay (in minutes)\u001b[39;49m\u001b[39m\"\u001b[39;49m})\n\u001b[1;32m      9\u001b[0m plt\u001b[39m.\u001b[39msetp(ax\u001b[39m.\u001b[39mget_xticklabels(), fontsize\u001b[39m=\u001b[39m\u001b[39m12\u001b[39m, rotation \u001b[39m=\u001b[39m \u001b[39m88\u001b[39m) ;\n\u001b[1;32m     10\u001b[0m ax\u001b[39m.\u001b[39myaxis\u001b[39m.\u001b[39mlabel\u001b[39m.\u001b[39mset_visible(\u001b[39mFalse\u001b[39;00m)\n",
      "File \u001b[0;32m/usr/local/lib/python3.11/site-packages/seaborn/matrix.py:446\u001b[0m, in \u001b[0;36mheatmap\u001b[0;34m(data, vmin, vmax, cmap, center, robust, annot, fmt, annot_kws, linewidths, linecolor, cbar, cbar_kws, cbar_ax, square, xticklabels, yticklabels, mask, ax, **kwargs)\u001b[0m\n\u001b[1;32m    365\u001b[0m \u001b[39m\u001b[39m\u001b[39m\"\"\"Plot rectangular data as a color-encoded matrix.\u001b[39;00m\n\u001b[1;32m    366\u001b[0m \n\u001b[1;32m    367\u001b[0m \u001b[39mThis is an Axes-level function and will draw the heatmap into the\u001b[39;00m\n\u001b[0;32m   (...)\u001b[0m\n\u001b[1;32m    443\u001b[0m \n\u001b[1;32m    444\u001b[0m \u001b[39m\"\"\"\u001b[39;00m\n\u001b[1;32m    445\u001b[0m \u001b[39m# Initialize the plotter object\u001b[39;00m\n\u001b[0;32m--> 446\u001b[0m plotter \u001b[39m=\u001b[39m _HeatMapper(data, vmin, vmax, cmap, center, robust, annot, fmt,\n\u001b[1;32m    447\u001b[0m                       annot_kws, cbar, cbar_kws, xticklabels,\n\u001b[1;32m    448\u001b[0m                       yticklabels, mask)\n\u001b[1;32m    450\u001b[0m \u001b[39m# Add the pcolormesh kwargs here\u001b[39;00m\n\u001b[1;32m    451\u001b[0m kwargs[\u001b[39m\"\u001b[39m\u001b[39mlinewidths\u001b[39m\u001b[39m\"\u001b[39m] \u001b[39m=\u001b[39m linewidths\n",
      "File \u001b[0;32m/usr/local/lib/python3.11/site-packages/seaborn/matrix.py:113\u001b[0m, in \u001b[0;36m_HeatMapper.__init__\u001b[0;34m(self, data, vmin, vmax, cmap, center, robust, annot, fmt, annot_kws, cbar, cbar_kws, xticklabels, yticklabels, mask)\u001b[0m\n\u001b[1;32m    110\u001b[0m     data \u001b[39m=\u001b[39m pd\u001b[39m.\u001b[39mDataFrame(plot_data)\n\u001b[1;32m    112\u001b[0m \u001b[39m# Validate the mask and convert to DataFrame\u001b[39;00m\n\u001b[0;32m--> 113\u001b[0m mask \u001b[39m=\u001b[39m _matrix_mask(data, mask)\n\u001b[1;32m    115\u001b[0m plot_data \u001b[39m=\u001b[39m np\u001b[39m.\u001b[39mma\u001b[39m.\u001b[39mmasked_where(np\u001b[39m.\u001b[39masarray(mask), plot_data)\n\u001b[1;32m    117\u001b[0m \u001b[39m# Get good names for the rows and columns\u001b[39;00m\n",
      "File \u001b[0;32m/usr/local/lib/python3.11/site-packages/seaborn/matrix.py:92\u001b[0m, in \u001b[0;36m_matrix_mask\u001b[0;34m(data, mask)\u001b[0m\n\u001b[1;32m     87\u001b[0m         \u001b[39mraise\u001b[39;00m \u001b[39mValueError\u001b[39;00m(err)\n\u001b[1;32m     89\u001b[0m \u001b[39m# Add any cells with missing data to the mask\u001b[39;00m\n\u001b[1;32m     90\u001b[0m \u001b[39m# This works around an issue where `plt.pcolormesh` doesn't represent\u001b[39;00m\n\u001b[1;32m     91\u001b[0m \u001b[39m# missing data properly\u001b[39;00m\n\u001b[0;32m---> 92\u001b[0m mask \u001b[39m=\u001b[39m mask \u001b[39m|\u001b[39;49m pd\u001b[39m.\u001b[39;49misnull(data)\n\u001b[1;32m     94\u001b[0m \u001b[39mreturn\u001b[39;00m mask\n",
      "File \u001b[0;32m/usr/local/lib/python3.11/site-packages/pandas/core/ops/common.py:72\u001b[0m, in \u001b[0;36m_unpack_zerodim_and_defer.<locals>.new_method\u001b[0;34m(self, other)\u001b[0m\n\u001b[1;32m     68\u001b[0m             \u001b[39mreturn\u001b[39;00m \u001b[39mNotImplemented\u001b[39m\n\u001b[1;32m     70\u001b[0m other \u001b[39m=\u001b[39m item_from_zerodim(other)\n\u001b[0;32m---> 72\u001b[0m \u001b[39mreturn\u001b[39;00m method(\u001b[39mself\u001b[39;49m, other)\n",
      "File \u001b[0;32m/usr/local/lib/python3.11/site-packages/pandas/core/arraylike.py:84\u001b[0m, in \u001b[0;36mOpsMixin.__ror__\u001b[0;34m(self, other)\u001b[0m\n\u001b[1;32m     82\u001b[0m \u001b[39m@unpack_zerodim_and_defer\u001b[39m(\u001b[39m\"\u001b[39m\u001b[39m__ror__\u001b[39m\u001b[39m\"\u001b[39m)\n\u001b[1;32m     83\u001b[0m \u001b[39mdef\u001b[39;00m \u001b[39m__ror__\u001b[39m(\u001b[39mself\u001b[39m, other):\n\u001b[0;32m---> 84\u001b[0m     \u001b[39mreturn\u001b[39;00m \u001b[39mself\u001b[39;49m\u001b[39m.\u001b[39;49m_logical_method(other, roperator\u001b[39m.\u001b[39;49mror_)\n",
      "File \u001b[0;32m/usr/local/lib/python3.11/site-packages/pandas/core/frame.py:7594\u001b[0m, in \u001b[0;36mDataFrame._arith_method\u001b[0;34m(self, other, op)\u001b[0m\n\u001b[1;32m   7590\u001b[0m other \u001b[39m=\u001b[39m ops\u001b[39m.\u001b[39mmaybe_prepare_scalar_for_op(other, (\u001b[39mself\u001b[39m\u001b[39m.\u001b[39mshape[axis],))\n\u001b[1;32m   7592\u001b[0m \u001b[39mself\u001b[39m, other \u001b[39m=\u001b[39m ops\u001b[39m.\u001b[39malign_method_FRAME(\u001b[39mself\u001b[39m, other, axis, flex\u001b[39m=\u001b[39m\u001b[39mTrue\u001b[39;00m, level\u001b[39m=\u001b[39m\u001b[39mNone\u001b[39;00m)\n\u001b[0;32m-> 7594\u001b[0m new_data \u001b[39m=\u001b[39m \u001b[39mself\u001b[39;49m\u001b[39m.\u001b[39;49m_dispatch_frame_op(other, op, axis\u001b[39m=\u001b[39;49maxis)\n\u001b[1;32m   7595\u001b[0m \u001b[39mreturn\u001b[39;00m \u001b[39mself\u001b[39m\u001b[39m.\u001b[39m_construct_result(new_data)\n",
      "File \u001b[0;32m/usr/local/lib/python3.11/site-packages/pandas/core/frame.py:7633\u001b[0m, in \u001b[0;36mDataFrame._dispatch_frame_op\u001b[0;34m(self, right, func, axis)\u001b[0m\n\u001b[1;32m   7627\u001b[0m     \u001b[39m# TODO: The previous assertion `assert right._indexed_same(self)`\u001b[39;00m\n\u001b[1;32m   7628\u001b[0m     \u001b[39m#  fails in cases with empty columns reached via\u001b[39;00m\n\u001b[1;32m   7629\u001b[0m     \u001b[39m#  _frame_arith_method_with_reindex\u001b[39;00m\n\u001b[1;32m   7630\u001b[0m \n\u001b[1;32m   7631\u001b[0m     \u001b[39m# TODO operate_blockwise expects a manager of the same type\u001b[39;00m\n\u001b[1;32m   7632\u001b[0m     \u001b[39mwith\u001b[39;00m np\u001b[39m.\u001b[39merrstate(\u001b[39mall\u001b[39m\u001b[39m=\u001b[39m\u001b[39m\"\u001b[39m\u001b[39mignore\u001b[39m\u001b[39m\"\u001b[39m):\n\u001b[0;32m-> 7633\u001b[0m         bm \u001b[39m=\u001b[39m \u001b[39mself\u001b[39;49m\u001b[39m.\u001b[39;49m_mgr\u001b[39m.\u001b[39;49moperate_blockwise(\n\u001b[1;32m   7634\u001b[0m             \u001b[39m# error: Argument 1 to \"operate_blockwise\" of \"ArrayManager\" has\u001b[39;49;00m\n\u001b[1;32m   7635\u001b[0m             \u001b[39m# incompatible type \"Union[ArrayManager, BlockManager]\"; expected\u001b[39;49;00m\n\u001b[1;32m   7636\u001b[0m             \u001b[39m# \"ArrayManager\"\u001b[39;49;00m\n\u001b[1;32m   7637\u001b[0m             \u001b[39m# error: Argument 1 to \"operate_blockwise\" of \"BlockManager\" has\u001b[39;49;00m\n\u001b[1;32m   7638\u001b[0m             \u001b[39m# incompatible type \"Union[ArrayManager, BlockManager]\"; expected\u001b[39;49;00m\n\u001b[1;32m   7639\u001b[0m             \u001b[39m# \"BlockManager\"\u001b[39;49;00m\n\u001b[1;32m   7640\u001b[0m             right\u001b[39m.\u001b[39;49m_mgr,  \u001b[39m# type: ignore[arg-type]\u001b[39;49;00m\n\u001b[1;32m   7641\u001b[0m             array_op,\n\u001b[1;32m   7642\u001b[0m         )\n\u001b[1;32m   7643\u001b[0m     \u001b[39mreturn\u001b[39;00m \u001b[39mself\u001b[39m\u001b[39m.\u001b[39m_constructor(bm)\n\u001b[1;32m   7645\u001b[0m \u001b[39melif\u001b[39;00m \u001b[39misinstance\u001b[39m(right, Series) \u001b[39mand\u001b[39;00m axis \u001b[39m==\u001b[39m \u001b[39m1\u001b[39m:\n\u001b[1;32m   7646\u001b[0m     \u001b[39m# axis=1 means we want to operate row-by-row\u001b[39;00m\n",
      "File \u001b[0;32m/usr/local/lib/python3.11/site-packages/pandas/core/internals/managers.py:1589\u001b[0m, in \u001b[0;36mBlockManager.operate_blockwise\u001b[0;34m(self, other, array_op)\u001b[0m\n\u001b[1;32m   1585\u001b[0m \u001b[39mdef\u001b[39;00m \u001b[39moperate_blockwise\u001b[39m(\u001b[39mself\u001b[39m, other: BlockManager, array_op) \u001b[39m-\u001b[39m\u001b[39m>\u001b[39m BlockManager:\n\u001b[1;32m   1586\u001b[0m \u001b[39m    \u001b[39m\u001b[39m\"\"\"\u001b[39;00m\n\u001b[1;32m   1587\u001b[0m \u001b[39m    Apply array_op blockwise with another (aligned) BlockManager.\u001b[39;00m\n\u001b[1;32m   1588\u001b[0m \u001b[39m    \"\"\"\u001b[39;00m\n\u001b[0;32m-> 1589\u001b[0m     \u001b[39mreturn\u001b[39;00m operate_blockwise(\u001b[39mself\u001b[39;49m, other, array_op)\n",
      "File \u001b[0;32m/usr/local/lib/python3.11/site-packages/pandas/core/internals/ops.py:63\u001b[0m, in \u001b[0;36moperate_blockwise\u001b[0;34m(left, right, array_op)\u001b[0m\n\u001b[1;32m     61\u001b[0m res_blks: \u001b[39mlist\u001b[39m[Block] \u001b[39m=\u001b[39m []\n\u001b[1;32m     62\u001b[0m \u001b[39mfor\u001b[39;00m lvals, rvals, locs, left_ea, right_ea, rblk \u001b[39min\u001b[39;00m _iter_block_pairs(left, right):\n\u001b[0;32m---> 63\u001b[0m     res_values \u001b[39m=\u001b[39m array_op(lvals, rvals)\n\u001b[1;32m     64\u001b[0m     \u001b[39mif\u001b[39;00m left_ea \u001b[39mand\u001b[39;00m \u001b[39mnot\u001b[39;00m right_ea \u001b[39mand\u001b[39;00m \u001b[39mhasattr\u001b[39m(res_values, \u001b[39m\"\u001b[39m\u001b[39mreshape\u001b[39m\u001b[39m\"\u001b[39m):\n\u001b[1;32m     65\u001b[0m         res_values \u001b[39m=\u001b[39m res_values\u001b[39m.\u001b[39mreshape(\u001b[39m1\u001b[39m, \u001b[39m-\u001b[39m\u001b[39m1\u001b[39m)\n",
      "File \u001b[0;32m/usr/local/lib/python3.11/site-packages/pandas/core/ops/array_ops.py:395\u001b[0m, in \u001b[0;36mlogical_op\u001b[0;34m(left, right, op)\u001b[0m\n\u001b[1;32m    391\u001b[0m \u001b[39m# For int vs int `^`, `|`, `&` are bitwise operators and return\u001b[39;00m\n\u001b[1;32m    392\u001b[0m \u001b[39m#   integer dtypes.  Otherwise these are boolean ops\u001b[39;00m\n\u001b[1;32m    393\u001b[0m filler \u001b[39m=\u001b[39m fill_int \u001b[39mif\u001b[39;00m is_self_int_dtype \u001b[39mand\u001b[39;00m is_other_int_dtype \u001b[39melse\u001b[39;00m fill_bool\n\u001b[0;32m--> 395\u001b[0m res_values \u001b[39m=\u001b[39m na_logical_op(lvalues, rvalues, op)\n\u001b[1;32m    396\u001b[0m \u001b[39m# error: Cannot call function of unknown type\u001b[39;00m\n\u001b[1;32m    397\u001b[0m res_values \u001b[39m=\u001b[39m filler(res_values)  \u001b[39m# type: ignore[operator]\u001b[39;00m\n",
      "File \u001b[0;32m/usr/local/lib/python3.11/site-packages/pandas/core/ops/array_ops.py:312\u001b[0m, in \u001b[0;36mna_logical_op\u001b[0;34m(x, y, op)\u001b[0m\n\u001b[1;32m    310\u001b[0m     x \u001b[39m=\u001b[39m ensure_object(x)\n\u001b[1;32m    311\u001b[0m     y \u001b[39m=\u001b[39m ensure_object(y)\n\u001b[0;32m--> 312\u001b[0m     result \u001b[39m=\u001b[39m libops\u001b[39m.\u001b[39;49mvec_binop(x\u001b[39m.\u001b[39;49mravel(), y\u001b[39m.\u001b[39;49mravel(), op)\n\u001b[1;32m    313\u001b[0m \u001b[39melse\u001b[39;00m:\n\u001b[1;32m    314\u001b[0m     \u001b[39m# let null fall thru\u001b[39;00m\n\u001b[1;32m    315\u001b[0m     \u001b[39massert\u001b[39;00m lib\u001b[39m.\u001b[39mis_scalar(y)\n",
      "File \u001b[0;32m/usr/local/lib/python3.11/site-packages/pandas/_libs/ops.pyx:217\u001b[0m, in \u001b[0;36mpandas._libs.ops.vec_binop\u001b[0;34m()\u001b[0m\n",
      "File \u001b[0;32mstringsource:660\u001b[0m, in \u001b[0;36mView.MemoryView.memoryview_cwrapper\u001b[0;34m()\u001b[0m\n",
      "File \u001b[0;32mstringsource:350\u001b[0m, in \u001b[0;36mView.MemoryView.memoryview.__cinit__\u001b[0;34m()\u001b[0m\n",
      "\u001b[0;31mValueError\u001b[0m: buffer source array is read-only"
     ]
    },
    {
     "data": {
      "image/png": "[encoded data removed]",
      "text/plain": [
       "<Figure size 1200x1200 with 1 Axes>"
      ]
     },
     "metadata": {},
     "output_type": "display_data"
    }
   ],
   "source": [
    "\n",
    "# Plot heatmap of average departure delays for top 50 airports\n",
    "sns.set(context=\"paper\")\n",
    "fig = plt.figure(1, figsize=(12,12))\n",
    "\n",
    "ax = fig.add_subplot(1,2,1)\n",
    "subset = airport_mean_delays.iloc[:50]\n",
    "mask = subset.isnull()\n",
    "sns.heatmap(subset.to_frame(), linewidths=0.05, cmap=\"YlGnBu\", mask=mask, vmin = 0, vmax = 30, annot=True, fmt=\".1f\", cbar_kws={\"label\": \"Average Departure Delay (in minutes)\"})\n",
    "plt.setp(ax.get_xticklabels(), fontsize=12, rotation = 88) ;\n",
    "ax.yaxis.label.set_visible(False)\n",
    "\n",
    "# Plot heatmap of average departure delays for next 50 airports\n",
    "ax = fig.add_subplot(1,2,2)    \n",
    "subset = airport_mean_delays.iloc[50:100]\n",
    "fig.text(0.5, 1.02, \"Scale of Delays from Origin Airport\", ha='center', fontsize = 20)\n",
    "mask = subset.isnull()\n",
    "sns.heatmap(subset.to_frame(), linewidths=0.05, cmap=\"YlGnBu\", mask=mask, vmin = 0, vmax = 30, annot=True, fmt=\".1f\", cbar_kws={\"label\": \"Average Departure Delay (in minutes)\"})\n",
    "plt.setp(ax.get_xticklabels(), fontsize=12, rotation = 88) ;\n",
    "ax.yaxis.label.set_visible(False)\n",
    "\n",
    "plt.tight_layout()\n",
    "plt.show()"
   ]
  },
  {
   "cell_type": "code",
   "execution_count": 27,
   "metadata": {},
   "outputs": [
    {
     "ename": "KeyError",
     "evalue": "'OP_CARRIER'",
     "output_type": "error",
     "traceback": [
      "\u001b[0;31m---------------------------------------------------------------------------\u001b[0m",
      "\u001b[0;31mKeyError\u001b[0m                                  Traceback (most recent call last)",
      "File \u001b[0;32m/usr/local/lib/python3.11/site-packages/pandas/core/indexes/base.py:3802\u001b[0m, in \u001b[0;36mIndex.get_loc\u001b[0;34m(self, key, method, tolerance)\u001b[0m\n\u001b[1;32m   3801\u001b[0m \u001b[39mtry\u001b[39;00m:\n\u001b[0;32m-> 3802\u001b[0m     \u001b[39mreturn\u001b[39;00m \u001b[39mself\u001b[39;49m\u001b[39m.\u001b[39;49m_engine\u001b[39m.\u001b[39;49mget_loc(casted_key)\n\u001b[1;32m   3803\u001b[0m \u001b[39mexcept\u001b[39;00m \u001b[39mKeyError\u001b[39;00m \u001b[39mas\u001b[39;00m err:\n",
      "File \u001b[0;32m/usr/local/lib/python3.11/site-packages/pandas/_libs/index.pyx:138\u001b[0m, in \u001b[0;36mpandas._libs.index.IndexEngine.get_loc\u001b[0;34m()\u001b[0m\n",
      "File \u001b[0;32m/usr/local/lib/python3.11/site-packages/pandas/_libs/index.pyx:165\u001b[0m, in \u001b[0;36mpandas._libs.index.IndexEngine.get_loc\u001b[0;34m()\u001b[0m\n",
      "File \u001b[0;32mpandas/_libs/hashtable_class_helper.pxi:5745\u001b[0m, in \u001b[0;36mpandas._libs.hashtable.PyObjectHashTable.get_item\u001b[0;34m()\u001b[0m\n",
      "File \u001b[0;32mpandas/_libs/hashtable_class_helper.pxi:5753\u001b[0m, in \u001b[0;36mpandas._libs.hashtable.PyObjectHashTable.get_item\u001b[0;34m()\u001b[0m\n",
      "\u001b[0;31mKeyError\u001b[0m: 'OP_CARRIER'",
      "\nThe above exception was the direct cause of the following exception:\n",
      "\u001b[0;31mKeyError\u001b[0m                                  Traceback (most recent call last)",
      "Cell \u001b[0;32mIn[27], line 7\u001b[0m\n\u001b[1;32m      4\u001b[0m     \u001b[39mreturn\u001b[39;00m airport\u001b[39m.\u001b[39mvalues[\u001b[39m0\u001b[39m] \u001b[39mif\u001b[39;00m \u001b[39mnot\u001b[39;00m airport\u001b[39m.\u001b[39mempty \u001b[39melse\u001b[39;00m row\n\u001b[1;32m      6\u001b[0m \u001b[39m# Define a dictionary to map airline codes to their names\u001b[39;00m\n\u001b[0;32m----> 7\u001b[0m abbr_companies \u001b[39m=\u001b[39m flights_data[[\u001b[39m'\u001b[39;49m\u001b[39mOP_CARRIER\u001b[39;49m\u001b[39m'\u001b[39;49m, \u001b[39m'\u001b[39;49m\u001b[39mOP_CARRIER\u001b[39;49m\u001b[39m'\u001b[39;49m]]\u001b[39m.\u001b[39;49mdrop_duplicates()\u001b[39m.\u001b[39;49mset_index(\u001b[39m'\u001b[39;49m\u001b[39mOP_CARRIER\u001b[39;49m\u001b[39m'\u001b[39;49m)[\u001b[39m'\u001b[39;49m\u001b[39mOP_CARRIER\u001b[39;49m\u001b[39m'\u001b[39;49m]\u001b[39m.\u001b[39mto_dict()\n\u001b[1;32m      9\u001b[0m \u001b[39m# Compute the average departure delay by origin airport\u001b[39;00m\n\u001b[1;32m     10\u001b[0m airport_mean_delays \u001b[39m=\u001b[39m flights_data[[\u001b[39m'\u001b[39m\u001b[39mORIGIN\u001b[39m\u001b[39m'\u001b[39m, \u001b[39m'\u001b[39m\u001b[39mDEP_DELAY\u001b[39m\u001b[39m'\u001b[39m]]\u001b[39m.\u001b[39mgroupby(\u001b[39m'\u001b[39m\u001b[39mORIGIN\u001b[39m\u001b[39m'\u001b[39m)\u001b[39m.\u001b[39mmean()\n",
      "File \u001b[0;32m/usr/local/lib/python3.11/site-packages/pandas/core/frame.py:3807\u001b[0m, in \u001b[0;36mDataFrame.__getitem__\u001b[0;34m(self, key)\u001b[0m\n\u001b[1;32m   3805\u001b[0m \u001b[39mif\u001b[39;00m \u001b[39mself\u001b[39m\u001b[39m.\u001b[39mcolumns\u001b[39m.\u001b[39mnlevels \u001b[39m>\u001b[39m \u001b[39m1\u001b[39m:\n\u001b[1;32m   3806\u001b[0m     \u001b[39mreturn\u001b[39;00m \u001b[39mself\u001b[39m\u001b[39m.\u001b[39m_getitem_multilevel(key)\n\u001b[0;32m-> 3807\u001b[0m indexer \u001b[39m=\u001b[39m \u001b[39mself\u001b[39;49m\u001b[39m.\u001b[39;49mcolumns\u001b[39m.\u001b[39;49mget_loc(key)\n\u001b[1;32m   3808\u001b[0m \u001b[39mif\u001b[39;00m is_integer(indexer):\n\u001b[1;32m   3809\u001b[0m     indexer \u001b[39m=\u001b[39m [indexer]\n",
      "File \u001b[0;32m/usr/local/lib/python3.11/site-packages/pandas/core/indexes/base.py:3804\u001b[0m, in \u001b[0;36mIndex.get_loc\u001b[0;34m(self, key, method, tolerance)\u001b[0m\n\u001b[1;32m   3802\u001b[0m     \u001b[39mreturn\u001b[39;00m \u001b[39mself\u001b[39m\u001b[39m.\u001b[39m_engine\u001b[39m.\u001b[39mget_loc(casted_key)\n\u001b[1;32m   3803\u001b[0m \u001b[39mexcept\u001b[39;00m \u001b[39mKeyError\u001b[39;00m \u001b[39mas\u001b[39;00m err:\n\u001b[0;32m-> 3804\u001b[0m     \u001b[39mraise\u001b[39;00m \u001b[39mKeyError\u001b[39;00m(key) \u001b[39mfrom\u001b[39;00m \u001b[39merr\u001b[39;00m\n\u001b[1;32m   3805\u001b[0m \u001b[39mexcept\u001b[39;00m \u001b[39mTypeError\u001b[39;00m:\n\u001b[1;32m   3806\u001b[0m     \u001b[39m# If we have a listlike key, _check_indexing_error will raise\u001b[39;00m\n\u001b[1;32m   3807\u001b[0m     \u001b[39m#  InvalidIndexError. Otherwise we fall through and re-raise\u001b[39;00m\n\u001b[1;32m   3808\u001b[0m     \u001b[39m#  the TypeError.\u001b[39;00m\n\u001b[1;32m   3809\u001b[0m     \u001b[39mself\u001b[39m\u001b[39m.\u001b[39m_check_indexing_error(key)\n",
      "\u001b[0;31mKeyError\u001b[0m: 'OP_CARRIER'"
     ]
    }
   ],
   "source": [
    "# # Define a function to identify the airport by its code\n",
    "# def identify_airport(row):\n",
    "#     airport = airport_data[airport_data['iata_code'] == row]['name']\n",
    "#     return airport.values[0] if not airport.empty else row\n",
    "\n",
    "# # Define a dictionary to map airline codes to their names\n",
    "# abbr_companies = flights_data[['OP_CARRIER', 'OP_CARRIER']].drop_duplicates().set_index('OP_CARRIER')['OP_CARRIER'].to_dict()\n",
    "\n",
    "# # Compute the average departure delay by origin airport\n",
    "# airport_mean_delays = flights_data[['ORIGIN', 'DEP_DELAY']].groupby('ORIGIN').mean()\n",
    "\n",
    "# # Replace the airport codes with their names\n",
    "# airport_mean_delays.index = airport_mean_delays.index.map(identify_airport)\n",
    "\n",
    "# # Create the heatmap\n",
    "# sns.set(context=\"paper\")\n",
    "# fig = plt.figure(1, figsize=(12,12))\n",
    "\n",
    "# ax = fig.add_subplot(1,2,1)\n",
    "# subset = airport_mean_delays.iloc[:50,:]\n",
    "# mask = subset.isnull()\n",
    "# sns.heatmap(subset, linewidths=0.05, cmap=\"YlGnBu\", mask=mask, vmin = 0, vmax = 30)\n",
    "# plt.setp(ax.get_xticklabels(), fontsize=12, rotation = 88)\n",
    "# ax.yaxis.label.set_visible(False)\n",
    "# ax.set_title('Scale of Delays from Origin Airport (Top 50)')\n",
    "\n",
    "# ax = fig.add_subplot(1,2,2)\n",
    "# subset = airport_mean_delays.iloc[50:100,:]\n",
    "# mask = subset.isnull()\n",
    "# sns.heatmap(subset, linewidths=0.05, cmap=\"YlGnBu\", mask=mask, vmin = 0, vmax = 30)\n",
    "# plt.setp(ax.get_xticklabels(), fontsize=12, rotation = 88)\n",
    "# ax.yaxis.label.set_visible(False)\n",
    "# ax.set_title('Scale of Delays from Origin Airport (50-100)')\n",
    "\n",
    "# plt.tight_layout()\n",
    "# plt.show()\n"
   ]
  },
  {
   "cell_type": "code",
   "execution_count": null,
   "metadata": {},
   "outputs": [
    {
     "ename": "NameError",
     "evalue": "name 'flights_data' is not defined",
     "output_type": "error",
     "traceback": [
      "\u001b[0;31m---------------------------------------------------------------------------\u001b[0m",
      "\u001b[0;31mNameError\u001b[0m                                 Traceback (most recent call last)",
      "Cell \u001b[0;32mIn[23], line 6\u001b[0m\n\u001b[1;32m      4\u001b[0m \u001b[39m# Heatmap of delays from top 50 origin airports\u001b[39;00m\n\u001b[1;32m      5\u001b[0m ax \u001b[39m=\u001b[39m fig\u001b[39m.\u001b[39madd_subplot(\u001b[39m1\u001b[39m,\u001b[39m2\u001b[39m,\u001b[39m1\u001b[39m)\n\u001b[0;32m----> 6\u001b[0m subset \u001b[39m=\u001b[39m flights_data\u001b[39m.\u001b[39mgroupby(\u001b[39m'\u001b[39m\u001b[39mORIGIN\u001b[39m\u001b[39m'\u001b[39m)[\u001b[39m'\u001b[39m\u001b[39mDEP_DELAY\u001b[39m\u001b[39m'\u001b[39m]\u001b[39m.\u001b[39mmean()\u001b[39m.\u001b[39msort_values(ascending\u001b[39m=\u001b[39m\u001b[39mFalse\u001b[39;00m)[:\u001b[39m50\u001b[39m]\n\u001b[1;32m      7\u001b[0m subset \u001b[39m=\u001b[39m pd\u001b[39m.\u001b[39mDataFrame(subset\u001b[39m.\u001b[39mvalues, index\u001b[39m=\u001b[39msubset\u001b[39m.\u001b[39mindex, columns\u001b[39m=\u001b[39m[\u001b[39m'\u001b[39m\u001b[39mAverage Delay (mins)\u001b[39m\u001b[39m'\u001b[39m])\n\u001b[1;32m      8\u001b[0m subset \u001b[39m=\u001b[39m subset\u001b[39m.\u001b[39mmerge(airports_data[[\u001b[39m'\u001b[39m\u001b[39mid\u001b[39m\u001b[39m'\u001b[39m, \u001b[39m'\u001b[39m\u001b[39mlatitude_deg\u001b[39m\u001b[39m'\u001b[39m, \u001b[39m'\u001b[39m\u001b[39mlongitude_deg\u001b[39m\u001b[39m'\u001b[39m]], left_index\u001b[39m=\u001b[39m\u001b[39mTrue\u001b[39;00m, right_on\u001b[39m=\u001b[39m\u001b[39m'\u001b[39m\u001b[39mid\u001b[39m\u001b[39m'\u001b[39m)\n",
      "\u001b[0;31mNameError\u001b[0m: name 'flights_data' is not defined"
     ]
    },
    {
     "data": {
      "image/png": "[encoded data removed]",
      "text/plain": [
       "<Figure size 1200x1200 with 1 Axes>"
      ]
     },
     "metadata": {},
     "output_type": "display_data"
    }
   ],
   "source": [
    "sns.set(context=\"paper\")\n",
    "fig = plt.figure(1, figsize=(12,12))\n",
    "\n",
    "# Heatmap of delays from top 50 origin airports\n",
    "ax = fig.add_subplot(1,2,1)\n",
    "subset = flights_data.groupby('ORIGIN')['DEP_DELAY'].mean().sort_values(ascending=False)[:50]\n",
    "subset = pd.DataFrame(subset.values, index=subset.index, columns=['Average Delay (mins)'])\n",
    "subset = subset.merge(airports_data[['id', 'latitude_deg', 'longitude_deg']], left_index=True, right_on='id')\n",
    "subset = subset[['Average Delay (mins)', 'latitude_deg', 'longitude_deg']].dropna()\n",
    "mask = subset.isnull()\n",
    "sns.heatmap(subset[['Average Delay (mins)', 'latitude_deg', 'longitude_deg']].corr(), annot=True, cmap=\"YlGnBu\", mask=mask, vmin = 0, vmax = 1, fmt=\".2f\", annot_kws={'size': 12})\n",
    "plt.setp(ax.get_xticklabels(), fontsize=12, rotation = 88)\n",
    "plt.title('Scale of Delays from Top 50 Origin Airports', fontsize=20)\n",
    "ax.set_xlabel('Latitude')\n",
    "ax.set_ylabel('Longitude')\n",
    "\n",
    "plt.tight_layout()\n"
   ]
  },
  {
   "cell_type": "code",
   "execution_count": null,
   "metadata": {},
   "outputs": [],
   "source": [
    "# Load the dataset\n",
    "df = pd.read_csv(\"../data/csv/2009.csv\")\n",
    "\n",
    "# Group the data by the origin airport and calculate the mean delay time\n",
    "delay_by_origin = df.groupby(\"ORIGIN\")[\"DEP_DELAY\"].mean()\n",
    "\n",
    "# Create a pivot table with origin airports as rows, destination airports as columns, and delay time as values\n",
    "pivot_table = pd.pivot_table(df, values=\"DEP_DELAY\", index=\"ORIGIN\", columns=\"DEST\", aggfunc=\"mean\")\n",
    "\n",
    "# Create a heatmap using seaborn\n",
    "sns.heatmap(pivot_table, cmap=\"YlGnBu\")\n"
   ]
  },
  {
   "cell_type": "code",
   "execution_count": null,
   "metadata": {},
   "outputs": [],
   "source": [
    "import pandas as pd\n",
    "import seaborn as sns\n",
    "import matplotlib.pyplot as plt\n",
    "\n",
    "# Load the dataset\n",
    "df = pd.read_csv(\"../data/csv/2009.csv\")\n",
    "\n",
    "# Group the data by the origin airport and calculate the mean delay time\n",
    "delay_by_origin = df.groupby(\"ORIGIN\")[\"DEP_DELAY\"].mean()\n",
    "\n",
    "# Create a pivot table with origin airports as rows, destination airports as columns, and delay time as values\n",
    "pivot_table = pd.pivot_table(df, values=\"DEP_DELAY\", index=\"ORIGIN\", columns=\"DEST\", aggfunc=\"mean\")\n",
    "\n",
    "# Rename the airlines with their respective abbreviations\n",
    "abbr_companies = {\n",
    "    '9E':'Endeavor Air',\n",
    "    'AA':'American Airlines',\n",
    "    'AS':'Alaska Airlines',\n",
    "    'B6':'JetBlue Airways',\n",
    "    'DL':'Delta Air Lines',\n",
    "    'EV':'ExpressJet Airlines',\n",
    "    'F9':'Frontier Airlines',\n",
    "    'G4':'Allegiant Air',\n",
    "    'HA':'Hawaiian Airlines',\n",
    "    'MQ':'Envoy Air',\n",
    "    'NK':'Spirit Airlines',\n",
    "    'OH':'PSA Airlines',\n",
    "    'OO':'SkyWest Airlines',\n",
    "    'UA':'United Airlines',\n",
    "    'WN':'Southwest Airlines',\n",
    "    'YV':'Mesa Airlines',\n",
    "    'YX':'Republic Airways'\n",
    "}\n",
    "\n",
    "# Rename the airport codes with their full names\n",
    "def identify_airport(code):\n",
    "    airports = pd.read_csv(\"../data/us-airports.csv\")\n",
    "    airport = airports[airports['ident'] == code]['name']\n",
    "    return airport\n",
    "\n",
    "# Set the context for the plot\n",
    "sns.set(context=\"paper\")\n",
    "\n",
    "# Create the figure\n",
    "fig = plt.figure(figsize=(12,12))\n",
    "\n",
    "# Create the first subplot for the top 50 origin airports\n",
    "ax1 = fig.add_subplot(1,2,1)\n",
    "subset1 = pivot_table.iloc[:50,:].rename(columns=abbr_companies)\n",
    "subset1 = subset1.rename(index=identify_airport)\n",
    "mask1 = subset1.isnull()\n",
    "sns.heatmap(subset1, linewidths=0.05, cmap=\"YlGnBu\", mask=mask1, vmin=0, vmax=30)\n",
    "plt.setp(ax1.get_xticklabels(), fontsize=12, rotation=88)\n",
    "ax1.yaxis.label.set_visible(False)\n",
    "ax1.set_title('Scale of Delays from Origin Airport (Top 50)')\n",
    "\n",
    "# Create the second subplot for the next 50 origin airports\n",
    "ax2 = fig.add_subplot(1,2,2)\n",
    "subset2 = pivot_table.iloc[50:100,:].rename(columns=abbr_companies)\n",
    "subset2 = subset2.rename(index=identify_airport)\n",
    "mask2 = subset2.isnull()\n",
    "sns.heatmap(subset2, linewidths=0.05, cmap=\"YlGnBu\", mask=mask2, vmin=0, vmax=30)\n",
    "plt.setp(ax2.get_xticklabels(), fontsize=12, rotation=88)\n",
    "ax2.yaxis.label.set_visible(False)\n",
    "ax2.set_title('Scale of Delays from Origin Airport (Next 50)')\n",
    "\n",
    "# Add the title to the figure\n",
    "fig.suptitle('Airline Delays in the United States', fontsize=20)\n",
    "\n",
    "# Adjust the layout of the subplots\n",
    "plt.tight_layout()\n"
   ]
  },
  {
   "cell_type": "code",
   "execution_count": null,
   "metadata": {},
   "outputs": [],
   "source": [
    "df = pd.read_csv('../data/csv/2009.csv')"
   ]
  },
  {
   "cell_type": "code",
   "execution_count": null,
   "metadata": {},
   "outputs": [],
   "source": [
    "df.head()"
   ]
  },
  {
   "cell_type": "code",
   "execution_count": null,
   "metadata": {},
   "outputs": [],
   "source": [
    "print(df.duplicated().sum())\n"
   ]
  },
  {
   "cell_type": "code",
   "execution_count": null,
   "metadata": {},
   "outputs": [],
   "source": [
    "%%timeit\n",
    "# df['FL_DATE'] = pd.to_datetime(df['FL_DATE'])\n",
    "df['FL_DATE'] = df['FL_DATE'].apply(pd.Timestamp)\n",
    "df['ORIGIN'] = df['ORIGIN'].apply(str)\n",
    "df['TAXI_OUT'] = df['TAXI_OUT'].apply(float)"
   ]
  },
  {
   "cell_type": "code",
   "execution_count": null,
   "metadata": {},
   "outputs": [],
   "source": [
    "%%timeit\n",
    "# Use pd.to_datetime, pd.to_numeric\n",
    "df['FL_DATE'] = pd.to_datetime(df['FL_DATE'])\n",
    "df['TAXI_OUT'] = pd.to_numeric(df['TAXI_OUT'])"
   ]
  },
  {
   "cell_type": "code",
   "execution_count": null,
   "metadata": {},
   "outputs": [],
   "source": [
    "%%timeit\n",
    "# Use astype()\n",
    "df['FL_DATE'] = df['FL_DATE'].astype('datetime64[ns]')\n",
    "df['ORIGIN'] = df['ORIGIN'].astype('str')\n",
    "df['TAXI_OUT'] = df['TAXI_OUT'].astype('float')"
   ]
  },
  {
   "cell_type": "code",
   "execution_count": null,
   "metadata": {},
   "outputs": [],
   "source": [
    "#Index(['FL_DATE', 'OP_CARRIER', 'OP_CARRIER_FL_NUM', 'ORIGIN', 'DEST',\n",
    "    #    'CRS_DEP_TIME', 'DEP_TIME', 'DEP_DELAY', 'TAXI_OUT', 'WHEELS_OFF',\n",
    "    #    'WHEELS_ON', 'TAXI_IN', 'CRS_ARR_TIME', 'ARR_TIME', 'ARR_DELAY',\n",
    "    #    'CANCELLED', 'CANCELLATION_CODE', 'DIVERTED', 'CRS_ELAPSED_TIME',\n",
    "    #    'ACTUAL_ELAPSED_TIME', 'AIR_TIME', 'DISTANCE', 'CARRIER_DELAY',\n",
    "    #    'WEATHER_DELAY', 'NAS_DELAY', 'SECURITY_DELAY', 'LATE_AIRCRAFT_DELAY',\n",
    "    #    'Unnamed: 27'],\n",
    "    #   dtype='object')"
   ]
  },
  {
   "cell_type": "code",
   "execution_count": null,
   "metadata": {},
   "outputs": [],
   "source": [
    "nas_delay_values = df.loc[~df['WEATHER_DELAY'].isnull() & df['WEATHER_DELAY'] != False, 'WEATHER_DELAY']\n",
    "print(nas_delay_values)\n",
    "# cancel_code = df['CANCELLATION_CODE']\n",
    "df['WEATHER_DELAY'].unique()"
   ]
  },
  {
   "cell_type": "code",
   "execution_count": null,
   "metadata": {},
   "outputs": [],
   "source": [
    "nas_delay_values = df.loc[~df['Unnamed: 27'].isnull() & df['Unnamed: 27'] != False, 'Unnamed: 27']\n",
    "print(nas_delay_values)\n",
    "# cancel_code = df['CANCELLATION_CODE']\n",
    "df['Unnamed: 27'].unique()"
   ]
  },
  {
   "cell_type": "code",
   "execution_count": null,
   "metadata": {},
   "outputs": [],
   "source": [
    "nas_delay_values = df.loc[~df['CANCELLED'].isnull() & df['CANCELLED'] != False, 'CANCELLED']\n",
    "print(nas_delay_values)\n",
    "# cancel_code = df['CANCELLATION_CODE']\n",
    "df['CANCELLED'].unique()"
   ]
  },
  {
   "cell_type": "code",
   "execution_count": null,
   "metadata": {},
   "outputs": [],
   "source": [
    "nas_delay_values = df.loc[~df['CANCELLATION_CODE'].isnull() & df['CANCELLATION_CODE'] != False, 'CANCELLATION_CODE']\n",
    "print(nas_delay_values)\n",
    "# cancel_code = df['CANCELLATION_CODE']\n",
    "df['CANCELLATION_CODE'].unique()"
   ]
  },
  {
   "cell_type": "code",
   "execution_count": null,
   "metadata": {},
   "outputs": [],
   "source": [
    "nas_delay_count = df['NAS_DELAY'].sum()\n",
    "nas_delay_nan_count = df['NAS_DELAY'].isna().sum()\n",
    "\n",
    "print(\"Number of NaN values in NAS_DELAY column:\", nas_delay_nan_count)"
   ]
  },
  {
   "cell_type": "code",
   "execution_count": null,
   "metadata": {},
   "outputs": [],
   "source": [
    "df.columns"
   ]
  },
  {
   "cell_type": "code",
   "execution_count": null,
   "metadata": {},
   "outputs": [],
   "source": [
    "df.info()"
   ]
  },
  {
   "cell_type": "code",
   "execution_count": null,
   "metadata": {},
   "outputs": [],
   "source": [
    "df.describe"
   ]
  },
  {
   "cell_type": "code",
   "execution_count": 20,
   "metadata": {},
   "outputs": [],
   "source": [
    "airports_data = pd.read_csv('../data/us-airports.csv')\n",
    "clean_airports= airports_data[1:]"
   ]
  },
  {
   "cell_type": "code",
   "execution_count": 21,
   "metadata": {},
   "outputs": [
    {
     "data": {
      "text/plain": [
       "Index(['id', 'ident', 'type', 'name', 'latitude_deg', 'longitude_deg',\n",
       "       'elevation_ft', 'continent', 'country_name', 'iso_country',\n",
       "       'region_name', 'iso_region', 'local_region', 'municipality',\n",
       "       'scheduled_service', 'gps_code', 'iata_code', 'local_code', 'home_link',\n",
       "       'wikipedia_link', 'keywords', 'score', 'last_updated'],\n",
       "      dtype='object')"
      ]
     },
     "execution_count": 21,
     "metadata": {},
     "output_type": "execute_result"
    }
   ],
   "source": [
    "clean_airports.columns"
   ]
  },
  {
   "cell_type": "code",
   "execution_count": null,
   "metadata": {},
   "outputs": [],
   "source": [
    "clean_airports.head()"
   ]
  },
  {
   "cell_type": "code",
   "execution_count": null,
   "metadata": {},
   "outputs": [],
   "source": []
  },
  {
   "cell_type": "code",
   "execution_count": null,
   "metadata": {},
   "outputs": [],
   "source": []
  }
 ],
 "metadata": {
  "kernelspec": {
   "display_name": "Python 3",
   "language": "python",
   "name": "python3"
  },
  "language_info": {
   "codemirror_mode": {
    "name": "ipython",
    "version": 3
   },
   "file_extension": ".py",
   "mimetype": "text/x-python",
   "name": "python",
   "nbconvert_exporter": "python",
   "pygments_lexer": "ipython3",
   "version": "3.11.2"
  },
  "orig_nbformat": 4
 },
 "nbformat": 4,
 "nbformat_minor": 2
}
